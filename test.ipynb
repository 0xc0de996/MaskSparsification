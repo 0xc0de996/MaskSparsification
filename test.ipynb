{
 "cells": [
  {
   "cell_type": "code",
   "execution_count": 12,
   "metadata": {},
   "outputs": [],
   "source": [
    "from copy import deepcopy\n",
    "\n",
    "import torch\n",
    "\n",
    "from main import seed_it\n",
    "from client import EncodeMaskedSparser, EncodeSparser, EncodeQuantizer\n",
    "from server import DecodeMaskedSparser, DecodeSparser, DecodeQuantizer"
   ]
  },
  {
   "cell_type": "code",
   "execution_count": 13,
   "metadata": {},
   "outputs": [],
   "source": [
    "seed_it(42)"
   ]
  },
  {
   "cell_type": "markdown",
   "metadata": {},
   "source": [
    "# compression error"
   ]
  },
  {
   "cell_type": "code",
   "execution_count": null,
   "outputs": [],
   "source": [
    "ITER = 100\n",
    "SHAPE = (256, 64, 32, 32)\n",
    "\n",
    "QU_encode = EncodeQuantizer(bit=3)\n",
    "QU_decode = DecodeQuantizer(bit=3)\n",
    "SP_encode = EncodeSparser(ratio=25 / 32)\n",
    "SP_decode = DecodeSparser(ratio=25 / 32)\n",
    "MS_encode = EncodeMaskedSparser(bit=2, ratio=31 / 32)\n",
    "MS_decode = DecodeMaskedSparser(bit=2, ratio=31 / 32)\n",
    "\n",
    "c1, c2, c3 = 0, 0, 0\n",
    "for i in range(ITER):\n",
    "    t = torch.relu(torch.randn(SHAPE))\n",
    "    t1 = deepcopy(t)\n",
    "    t2 = deepcopy(t)\n",
    "    t3 = deepcopy(t)\n",
    "\n",
    "    x1 = torch.zeros_like(t1)\n",
    "    x2 = torch.zeros_like(t2)\n",
    "    x3 = torch.zeros_like(t3)\n",
    "\n",
    "    QU_decode.decode(x1, *QU_encode.encode(t1))\n",
    "    SP_decode.decode(x2, *SP_encode.encode(t2))\n",
    "    MS_decode.decode(x3, *MS_encode.encode(t3))\n",
    "\n",
    "    c1 += (x1 - t1).norm(2).item()\n",
    "    c2 += (x2 - t2).norm(2).item()\n",
    "    c3 += (x3 - t3).norm(2).item()\n",
    "\n",
    "print(f\"The avg of quantization error: {c1 / ITER}\")\n",
    "print(f\"The avg of sparsification error: {c2 / ITER}\")\n",
    "print(f\"The avg of mask sparsification error: {c3 / ITER}\")\n"
   ],
   "metadata": {
    "collapsed": false,
    "pycharm": {
     "name": "#%%\n"
    }
   }
  },
  {
   "cell_type": "markdown",
   "source": [
    "# overhead test"
   ],
   "metadata": {
    "collapsed": false,
    "pycharm": {
     "name": "#%% md\n"
    }
   }
  },
  {
   "cell_type": "code",
   "execution_count": null,
   "outputs": [],
   "source": [
    "QU_encode = EncodeQuantizer(bit=2)\n",
    "QU_decode = DecodeQuantizer(bit=2)\n",
    "SP_encode = EncodeSparser(ratio=0.96)\n",
    "SP_decode = DecodeSparser(ratio=0.96)\n",
    "MS_encode = EncodeMaskedSparser(bit=2, ratio=0.99)\n",
    "MS_decode = DecodeMaskedSparser(bit=2, ratio=0.99)\n",
    "\n",
    "t = torch.abs(torch.randn(256, 64, 64, 64))\n",
    "t1 = deepcopy(t)\n",
    "t2 = deepcopy(t)\n",
    "t3 = deepcopy(t)\n",
    "x1 = torch.zeros_like(t1)\n",
    "x2 = torch.zeros_like(t2)\n",
    "x3 = torch.zeros_like(t3)"
   ],
   "metadata": {
    "collapsed": false,
    "pycharm": {
     "name": "#%%\n"
    }
   }
  },
  {
   "cell_type": "code",
   "execution_count": null,
   "outputs": [],
   "source": [
    "%timeit -r 10 -n 1 tmp = QU_encode.encode(t1)\n",
    "tmp = QU_encode.encode(t1)\n",
    "%timeit -r 10 -n 1 QU_decode.decode(x1, *tmp)"
   ],
   "metadata": {
    "collapsed": false,
    "pycharm": {
     "name": "#%%\n"
    }
   }
  },
  {
   "cell_type": "code",
   "execution_count": null,
   "outputs": [],
   "source": [
    "%timeit -r 10 -n 1 tmp = SP_encode.encode(t2)\n",
    "tmp = SP_encode.encode(t2)\n",
    "%timeit -r 10 -n 1 SP_decode.decode(x2, *tmp)"
   ],
   "metadata": {
    "collapsed": false,
    "pycharm": {
     "name": "#%%\n"
    }
   }
  },
  {
   "cell_type": "code",
   "execution_count": null,
   "outputs": [],
   "source": [
    "%timeit -r 10 -n 1 tmp = MS_encode.encode(t3)\n",
    "tmp = MS_encode.encode(t3)\n",
    "%timeit -r 10 -n 1 MS_decode.decode(x3, *tmp)"
   ],
   "metadata": {
    "collapsed": false,
    "pycharm": {
     "name": "#%%\n"
    }
   }
  }
 ],
 "metadata": {
  "kernelspec": {
   "display_name": "base",
   "language": "python",
   "name": "python3"
  },
  "language_info": {
   "codemirror_mode": {
    "name": "ipython",
    "version": 3
   },
   "file_extension": ".py",
   "mimetype": "text/x-python",
   "name": "python",
   "nbconvert_exporter": "python",
   "pygments_lexer": "ipython3",
   "version": "3.9.12"
  },
  "orig_nbformat": 4
 },
 "nbformat": 4,
 "nbformat_minor": 2
}